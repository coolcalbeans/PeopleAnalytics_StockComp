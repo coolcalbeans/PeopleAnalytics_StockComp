{
 "cells": [
  {
   "cell_type": "code",
   "execution_count": 1,
   "metadata": {
    "collapsed": true
   },
   "outputs": [],
   "source": [
    "%matplotlib inline\n",
    "\n",
    "import pandas as pd\n",
    "import numpy as np\n",
    "import seaborn as sn\n",
    "import statsmodels.formula.api as smf\n",
    "import pivottablejs as pivot\n",
    "\n",
    "import matplotlib.pyplot as plt\n",
    "plt.rcParams['figure.figsize'] = (15,10)"
   ]
  },
  {
   "cell_type": "markdown",
   "metadata": {},
   "source": [
    "## Excel Test - People Analytics Questions\n",
    "\n",
    "1. Calculate average Stock Grant by job level, location and fiscal quarter\t\t\t\t\t\t\t\n",
    "2. Calculate average stock grant by job profile and location \t\t\t\t\t\t\t\n",
    "3. Calculate the average stock grant by FBO/ GM (Functional Business Owner/ General Manager)and fiscal quarter\t\t\n",
    "4. Provide a summary of your findings. Feel free to include charts, tables or slides to best present your data. \t\n",
    "\n",
    "\n",
    "I'm assuming Questions 1 to 3 are for pure reporting. There are different ways to provide a dynamic filter to flip these charts but for simplicity, I'm just using a bar and line charts. The recommendations should be at the bottom of this notebook."
   ]
  },
  {
   "cell_type": "code",
   "execution_count": 2,
   "metadata": {},
   "outputs": [
    {
     "name": "stdout",
     "output_type": "stream",
     "text": [
      "(450, 9)\n"
     ]
    }
   ],
   "source": [
    "df_input = pd.read_excel('./People Analytics Excel Test.xlsx',sheetname='Sheet1', skiprows = 9)\n",
    "df_input = df_input.drop('Unnamed: 0', axis=1)\n",
    "df_input['Quarter'] = pd.PeriodIndex(df_input['Hire Date'], freq='Q').strftime('Q%q')\n",
    "print df_input.shape"
   ]
  },
  {
   "cell_type": "code",
   "execution_count": 3,
   "metadata": {},
   "outputs": [
    {
     "data": {
      "text/html": [
       "<div>\n",
       "<style>\n",
       "    .dataframe thead tr:only-child th {\n",
       "        text-align: right;\n",
       "    }\n",
       "\n",
       "    .dataframe thead th {\n",
       "        text-align: left;\n",
       "    }\n",
       "\n",
       "    .dataframe tbody tr th {\n",
       "        vertical-align: top;\n",
       "    }\n",
       "</style>\n",
       "<table border=\"1\" class=\"dataframe\">\n",
       "  <thead>\n",
       "    <tr style=\"text-align: right;\">\n",
       "      <th></th>\n",
       "      <th>Employee ID</th>\n",
       "      <th>Hire Date</th>\n",
       "      <th>JobProfile</th>\n",
       "      <th>JobLevel</th>\n",
       "      <th>Location</th>\n",
       "      <th>StockGrant</th>\n",
       "      <th>Currency</th>\n",
       "      <th>FBO</th>\n",
       "      <th>Quarter</th>\n",
       "    </tr>\n",
       "  </thead>\n",
       "  <tbody>\n",
       "    <tr>\n",
       "      <th>0</th>\n",
       "      <td>1</td>\n",
       "      <td>2015-07-01</td>\n",
       "      <td>Customer Experience Program Manager 1</td>\n",
       "      <td>3</td>\n",
       "      <td>Amsterdam, Netherlands</td>\n",
       "      <td>3500</td>\n",
       "      <td>USD</td>\n",
       "      <td>Head of Customers for Life</td>\n",
       "      <td>Q3</td>\n",
       "    </tr>\n",
       "    <tr>\n",
       "      <th>1</th>\n",
       "      <td>2</td>\n",
       "      <td>2015-07-01</td>\n",
       "      <td>Administration Senior Associate H</td>\n",
       "      <td>2</td>\n",
       "      <td>San Francisco, United States</td>\n",
       "      <td>2500</td>\n",
       "      <td>USD</td>\n",
       "      <td>Head of People</td>\n",
       "      <td>Q3</td>\n",
       "    </tr>\n",
       "    <tr>\n",
       "      <th>2</th>\n",
       "      <td>3</td>\n",
       "      <td>2015-07-01</td>\n",
       "      <td>Experts Program Manager 2</td>\n",
       "      <td>4</td>\n",
       "      <td>Home Office: Germany</td>\n",
       "      <td>4750</td>\n",
       "      <td>USD</td>\n",
       "      <td>Head of Go to Market</td>\n",
       "      <td>Q3</td>\n",
       "    </tr>\n",
       "    <tr>\n",
       "      <th>3</th>\n",
       "      <td>4</td>\n",
       "      <td>2015-07-06</td>\n",
       "      <td>Senior Developer</td>\n",
       "      <td>3</td>\n",
       "      <td>Sydney, Australia</td>\n",
       "      <td>2750</td>\n",
       "      <td>USD</td>\n",
       "      <td>Head of Tech Communication Tools</td>\n",
       "      <td>Q3</td>\n",
       "    </tr>\n",
       "    <tr>\n",
       "      <th>4</th>\n",
       "      <td>5</td>\n",
       "      <td>2015-07-06</td>\n",
       "      <td>Quality Engineer</td>\n",
       "      <td>2</td>\n",
       "      <td>Sydney, Australia</td>\n",
       "      <td>2000</td>\n",
       "      <td>USD</td>\n",
       "      <td>Head of Engineering</td>\n",
       "      <td>Q3</td>\n",
       "    </tr>\n",
       "  </tbody>\n",
       "</table>\n",
       "</div>"
      ],
      "text/plain": [
       "   Employee ID  Hire Date                             JobProfile  JobLevel  \\\n",
       "0            1 2015-07-01  Customer Experience Program Manager 1         3   \n",
       "1            2 2015-07-01      Administration Senior Associate H         2   \n",
       "2            3 2015-07-01              Experts Program Manager 2         4   \n",
       "3            4 2015-07-06                       Senior Developer         3   \n",
       "4            5 2015-07-06                       Quality Engineer         2   \n",
       "\n",
       "                       Location  StockGrant Currency  \\\n",
       "0        Amsterdam, Netherlands        3500      USD   \n",
       "1  San Francisco, United States        2500      USD   \n",
       "2          Home Office: Germany        4750      USD   \n",
       "3             Sydney, Australia        2750      USD   \n",
       "4             Sydney, Australia        2000      USD   \n",
       "\n",
       "                                FBO Quarter  \n",
       "0        Head of Customers for Life      Q3  \n",
       "1                    Head of People      Q3  \n",
       "2              Head of Go to Market      Q3  \n",
       "3  Head of Tech Communication Tools      Q3  \n",
       "4               Head of Engineering      Q3  "
      ]
     },
     "execution_count": 3,
     "metadata": {},
     "output_type": "execute_result"
    }
   ],
   "source": [
    "df_input.rename(columns={'Stock Granted as Amount ($USD)':'StockGrant',\n",
    "                         'FBO/GM':'FBO', 'Job Profile ':'JobProfile','Job Level':'JobLevel'}, inplace=True)\n",
    "df_input.head()"
   ]
  },
  {
   "cell_type": "code",
   "execution_count": 4,
   "metadata": {
    "collapsed": true
   },
   "outputs": [],
   "source": [
    "s_column = 'StockGrant'"
   ]
  },
  {
   "cell_type": "markdown",
   "metadata": {},
   "source": [
    "## Calculate Average Stock Grant by Job Level, Location and Fiscal quarter"
   ]
  },
  {
   "cell_type": "code",
   "execution_count": 5,
   "metadata": {},
   "outputs": [
    {
     "data": {
      "text/html": [
       "\n",
       "        <iframe\n",
       "            width=\"100%\"\n",
       "            height=\"500\"\n",
       "            src=\"pivottable1.html\"\n",
       "            frameborder=\"0\"\n",
       "            allowfullscreen\n",
       "        ></iframe>\n",
       "        "
      ],
      "text/plain": [
       "<IPython.lib.display.IFrame at 0x10d8c2d50>"
      ]
     },
     "execution_count": 5,
     "metadata": {},
     "output_type": "execute_result"
    }
   ],
   "source": [
    "#Average Stock Grant by Location / Quarter\n",
    "pivot.pivot_ui(df_input, rows=['Location'], cols=['Quarter'], vals=['StockGrant'], \n",
    "               aggregatorName='Average', rendererName=['Line Chart'], outfile_path='pivottable1.html')"
   ]
  },
  {
   "cell_type": "code",
   "execution_count": 6,
   "metadata": {},
   "outputs": [
    {
     "data": {
      "text/html": [
       "\n",
       "        <iframe\n",
       "            width=\"100%\"\n",
       "            height=\"500\"\n",
       "            src=\"pivottable2.html\"\n",
       "            frameborder=\"0\"\n",
       "            allowfullscreen\n",
       "        ></iframe>\n",
       "        "
      ],
      "text/plain": [
       "<IPython.lib.display.IFrame at 0x108863d50>"
      ]
     },
     "execution_count": 6,
     "metadata": {},
     "output_type": "execute_result"
    }
   ],
   "source": [
    "#Average Stock Grant by Job Level and Fiscal Quarter\n",
    "pivot.pivot_ui(df_input, rows=['JobLevel'], cols=['Quarter'], vals=['StockGrant'], \n",
    "               aggregatorName='Average', rendererName=['Line Chart'], outfile_path='pivottable2.html')"
   ]
  },
  {
   "cell_type": "markdown",
   "metadata": {},
   "source": [
    "## Average Stock Grant by Job Profile and Location"
   ]
  },
  {
   "cell_type": "code",
   "execution_count": 7,
   "metadata": {},
   "outputs": [
    {
     "data": {
      "text/html": [
       "\n",
       "        <iframe\n",
       "            width=\"100%\"\n",
       "            height=\"500\"\n",
       "            src=\"pivottable3.html\"\n",
       "            frameborder=\"0\"\n",
       "            allowfullscreen\n",
       "        ></iframe>\n",
       "        "
      ],
      "text/plain": [
       "<IPython.lib.display.IFrame at 0x10d82b150>"
      ]
     },
     "execution_count": 7,
     "metadata": {},
     "output_type": "execute_result"
    }
   ],
   "source": [
    "#Average Stock Grant by Job Profile and Fiscal Quarter\n",
    "pivot.pivot_ui(df_input, rows=['Location','JobProfile'], cols=['Quarter'], vals=['StockGrant'], \n",
    "               aggregatorName='Average', rendererName=['Heatmap'], outfile_path='pivottable3.html')"
   ]
  },
  {
   "cell_type": "markdown",
   "metadata": {},
   "source": [
    "## Average stock grant by FBO/ GM (Functional Business Owner/ General Manager)and fiscal quarter"
   ]
  },
  {
   "cell_type": "code",
   "execution_count": 8,
   "metadata": {},
   "outputs": [
    {
     "data": {
      "text/html": [
       "\n",
       "        <iframe\n",
       "            width=\"100%\"\n",
       "            height=\"500\"\n",
       "            src=\"pivottable4.html\"\n",
       "            frameborder=\"0\"\n",
       "            allowfullscreen\n",
       "        ></iframe>\n",
       "        "
      ],
      "text/plain": [
       "<IPython.lib.display.IFrame at 0x10d8c2dd0>"
      ]
     },
     "execution_count": 8,
     "metadata": {},
     "output_type": "execute_result"
    }
   ],
   "source": [
    "#Average Stock Grant by FBO and Fiscal Quarter\n",
    "pivot.pivot_ui(df_input, rows=['FBO'], cols=['Quarter'], vals=['StockGrant'], \n",
    "               aggregatorName='Average', rendererName=['Stacked Bar Chart'], outfile_path='pivottable4.html')"
   ]
  },
  {
   "cell_type": "markdown",
   "metadata": {},
   "source": [
    "## Model"
   ]
  },
  {
   "cell_type": "code",
   "execution_count": 10,
   "metadata": {
    "collapsed": true
   },
   "outputs": [],
   "source": [
    "#Let us try to model the relations ship between Stock Grants, Location and the Job Level at those locations.\n",
    "df_input.head()\n",
    "df_input['JobLevel'] = df_input['JobLevel'].astype(str)"
   ]
  },
  {
   "cell_type": "code",
   "execution_count": 11,
   "metadata": {},
   "outputs": [
    {
     "name": "stdout",
     "output_type": "stream",
     "text": [
      "                            OLS Regression Results                            \n",
      "==============================================================================\n",
      "Dep. Variable:             StockGrant   R-squared:                       0.916\n",
      "Model:                            OLS   Adj. R-squared:                  0.913\n",
      "Method:                 Least Squares   F-statistic:                     339.3\n",
      "Date:                Tue, 15 Aug 2017   Prob (F-statistic):          7.89e-224\n",
      "Time:                        14:07:38   Log-Likelihood:                -3356.3\n",
      "No. Observations:                 450   AIC:                             6743.\n",
      "Df Residuals:                     435   BIC:                             6804.\n",
      "Df Model:                          14                                         \n",
      "Covariance Type:            nonrobust                                         \n",
      "============================================================================================================================\n",
      "                                                               coef    std err          t      P>|t|      [0.025      0.975]\n",
      "----------------------------------------------------------------------------------------------------------------------------\n",
      "Intercept                                                  992.9570     99.370      9.993      0.000     797.652    1188.262\n",
      "C(Location)[T.Austin, United States]                       264.5955     99.055      2.671      0.008      69.909     459.282\n",
      "C(Location)[T.Home Office: California, United States]      908.9297    440.585      2.063      0.040      42.989    1774.871\n",
      "C(Location)[T.Home Office: Colorado, United States]        731.8216    436.482      1.677      0.094    -126.055    1589.698\n",
      "C(Location)[T.Home Office: Germany]                       -491.0703    269.516     -1.822      0.069   -1020.786      38.646\n",
      "C(Location)[T.Home Office: Maryland, United States]        731.8216    436.482      1.677      0.094    -126.055    1589.698\n",
      "C(Location)[T.Home Office: Massachusetts, United States]   731.8216    436.482      1.677      0.094    -126.055    1589.698\n",
      "C(Location)[T.Home Office: Montana, United States]        1246.8388    435.214      2.865      0.004     391.455    2102.223\n",
      "C(Location)[T.Manila, Philippines]                       -1504.8041    138.515    -10.864      0.000   -1777.046   -1232.562\n",
      "C(Location)[T.San Francisco, United States]               1150.7344    100.513     11.449      0.000     953.182    1348.287\n",
      "C(Location)[T.Sydney, Australia]                           -11.9789     89.890     -0.133      0.894    -188.652     164.695\n",
      "C(Location)[T.Yokohama, Japan]                            -204.1366    261.372     -0.781      0.435    -717.846     309.573\n",
      "C(JobLevel)[T.2]                                          1010.2042     60.193     16.783      0.000     891.899    1128.510\n",
      "C(JobLevel)[T.3]                                          2025.2214     59.305     34.149      0.000    1908.661    2141.781\n",
      "C(JobLevel)[T.4]                                          4348.1133     84.339     51.555      0.000    4182.351    4513.876\n",
      "==============================================================================\n",
      "Omnibus:                      115.570   Durbin-Watson:                   2.025\n",
      "Prob(Omnibus):                  0.000   Jarque-Bera (JB):              343.914\n",
      "Skew:                           1.199   Prob(JB):                     2.09e-75\n",
      "Kurtosis:                       6.549   Cond. No.                         31.2\n",
      "==============================================================================\n",
      "\n",
      "Warnings:\n",
      "[1] Standard Errors assume that the covariance matrix of the errors is correctly specified.\n"
     ]
    }
   ],
   "source": [
    "mod = smf.ols(formula='StockGrant ~ C(Location) + C(JobLevel)', data=df_input)\n",
    "res = mod.fit()\n",
    "print(res.summary())"
   ]
  },
  {
   "cell_type": "code",
   "execution_count": 12,
   "metadata": {},
   "outputs": [
    {
     "data": {
      "text/plain": [
       "C(JobLevel)[T.4]                                         2.141296e-187\n",
       "C(JobLevel)[T.3]                                         3.606162e-125\n",
       "C(JobLevel)[T.2]                                          4.212564e-49\n",
       "C(Location)[T.San Francisco, United States]               1.044917e-26\n",
       "C(Location)[T.Manila, Philippines]                        1.734145e-24\n",
       "Intercept                                                 2.652157e-21\n",
       "C(Location)[T.Home Office: Montana, United States]        4.373676e-03\n",
       "C(Location)[T.Austin, United States]                      7.841907e-03\n",
       "C(Location)[T.Home Office: California, United States]     3.970513e-02\n",
       "dtype: float64"
      ]
     },
     "execution_count": 12,
     "metadata": {},
     "output_type": "execute_result"
    }
   ],
   "source": [
    "#Most significant Attributes are\n",
    "res.pvalues[res.pvalues < 0.05].sort_values(ascending=True)"
   ]
  },
  {
   "cell_type": "code",
   "execution_count": 13,
   "metadata": {},
   "outputs": [
    {
     "data": {
      "text/plain": [
       "Intercept                                                 992.956998\n",
       "C(Location)[T.Austin, United States]                      264.595482\n",
       "C(Location)[T.Home Office: California, United States]     908.929741\n",
       "C(Location)[T.Home Office: Montana, United States]       1246.838752\n",
       "C(Location)[T.Manila, Philippines]                      -1504.804108\n",
       "C(Location)[T.San Francisco, United States]              1150.734417\n",
       "C(JobLevel)[T.2]                                         1010.204250\n",
       "C(JobLevel)[T.3]                                         2025.221381\n",
       "C(JobLevel)[T.4]                                         4348.113261\n",
       "dtype: float64"
      ]
     },
     "execution_count": 13,
     "metadata": {},
     "output_type": "execute_result"
    }
   ],
   "source": [
    "#Coefficient of those significant factors\n",
    "res.params[res.pvalues < 0.05]"
   ]
  },
  {
   "cell_type": "markdown",
   "metadata": {},
   "source": [
    "## Recommendations / Insights:"
   ]
  },
  {
   "cell_type": "markdown",
   "metadata": {},
   "source": [
    "We have a pretty robust model because the Adjusted R-Squared explains ~ 92% of the data we see. Some of the insights we can derive from this are as follows.\n",
    "\n",
    "a)On an average across the company, if we disregard the influence of Job Level and Location, T1 level employees are being granted with $992 USD worth of stock options. Anything above that should be examined on why it is happening.\n",
    "\n",
    "b)A T2 position hired in Manila, on an average, results in a net subtraction of 1010.20 - 1504.8 = -494.6 USD worth of stock options to the employees compensation package.\n",
    "\n",
    "c) A T4 position hired in San Francisco on the other hand, on an average, results in a net addition of 4348.11 + 1150.73 = 5498.8 USD worth of stock options to the employees compensation package. Anything above that should be flagged for due diligence on the position and the value it brings to the company.\n",
    "\n",
    "d) At Austin, we can see that positions T1, T2 and T4 result in an incremental 1010, 2025 and 4348 USD worth of stock options above the location average of 992.95 + 264.59 = 1257.5 USD worth of stock options.\n",
    "\n",
    "e) Among the significant states in the US, Austin is definitely the cheapest in terms of additional Stock Grants.\n",
    "\n",
    "f) We can go so far as to predict what kind of StockGrant offers would be a good one to make for each Location and Job Level. Actual stock grant offers exceed the predicted values can be used as a sort of threshold check for the business."
   ]
  }
 ],
 "metadata": {
  "kernelspec": {
   "display_name": "Python [conda root]",
   "language": "python",
   "name": "conda-root-py"
  },
  "language_info": {
   "codemirror_mode": {
    "name": "ipython",
    "version": 2
   },
   "file_extension": ".py",
   "mimetype": "text/x-python",
   "name": "python",
   "nbconvert_exporter": "python",
   "pygments_lexer": "ipython2",
   "version": "2.7.13"
  }
 },
 "nbformat": 4,
 "nbformat_minor": 2
}
